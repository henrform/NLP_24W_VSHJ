{
 "cells": [
  {
   "cell_type": "code",
   "execution_count": 22,
   "metadata": {},
   "outputs": [],
   "source": [
    "import seaborn as sns\n",
    "import matplotlib.pyplot as plt\n",
    "import pandas as pd\n",
    "\n",
    "import import_preprocess, baseline_models\n",
    "from importlib import reload\n",
    "reload(import_preprocess)\n",
    "reload(baseline_models)\n",
    "\n",
    "from import_preprocess import ImportPreprocess, convert_labels_to_string, convert_labels_to_int\n",
    "from baseline_models import XGBoostClassifier, MajorityClassClassifier, RuleBasedClassifier, NaiveBayesClassifier, LogisticRegression, LSTM_Model, get_all_predictions"
   ]
  },
  {
   "cell_type": "code",
   "execution_count": 23,
   "metadata": {},
   "outputs": [
    {
     "name": "stdout",
     "output_type": "stream",
     "text": [
      "Number of training samples: 14000\n",
      "Number of validation samples: 2000\n",
      "Number of test samples: 4000\n",
      "Number of balanced samples: 10000\n"
     ]
    }
   ],
   "source": [
    "import_preprocess = ImportPreprocess()\n",
    "import_preprocess.import_train_val_test()\n",
    "import_preprocess.create_balanced_dataset()\n",
    "\n",
    "X_train, y_train, S_train, y_train_multi = import_preprocess.X_train, import_preprocess.y_train, import_preprocess.S_train, import_preprocess.y_train_multi\n",
    "X_val, y_val, S_val, y_val_multi = import_preprocess.X_val, import_preprocess.y_val, import_preprocess.S_val, import_preprocess.y_val_multi\n",
    "X_test, y_test, S_test, y_test_multi = import_preprocess.X_test, import_preprocess.y_test, import_preprocess.S_test, import_preprocess.y_test_multi\n",
    "X_balanced, y_balanced = import_preprocess.X_train_balanced, import_preprocess.y_train_balanced\n",
    "\n",
    "print(\"Number of training samples:\", len(X_train)) \n",
    "print(\"Number of validation samples:\", len(X_val))\n",
    "print(\"Number of test samples:\", len(X_test)) \n",
    "print(\"Number of balanced samples:\", len(X_balanced))"
   ]
  },
  {
   "cell_type": "code",
   "execution_count": 24,
   "metadata": {},
   "outputs": [],
   "source": [
    "results = pd.DataFrame(columns=['Model', 'Dataset', 'Accuracy', 'Balanced_Accuracy', 'Precision', 'Recall'])\n",
    "balanced_results = pd.DataFrame(columns=['Model', 'Dataset', 'Accuracy', 'Balanced_Accuracy', 'Precision', 'Recall'])"
   ]
  },
  {
   "cell_type": "code",
   "execution_count": 25,
   "metadata": {},
   "outputs": [],
   "source": [
    "y_train = convert_labels_to_int(y_train)\n",
    "y_balanced = convert_labels_to_int(y_balanced)\n",
    "y_val = convert_labels_to_int(y_val)"
   ]
  },
  {
   "cell_type": "code",
   "execution_count": 26,
   "metadata": {},
   "outputs": [
    {
     "data": {
      "text/plain": [
       "[0, 0, 0]"
      ]
     },
     "execution_count": 26,
     "metadata": {},
     "output_type": "execute_result"
    }
   ],
   "source": [
    "y_train[:3]"
   ]
  },
  {
   "cell_type": "markdown",
   "metadata": {},
   "source": [
    "a) hateBERT"
   ]
  },
  {
   "cell_type": "code",
   "execution_count": 32,
   "metadata": {},
   "outputs": [],
   "source": [
    "from transformers import BertTokenizer, BertForSequenceClassification, AdamW\n",
    "from sklearn.metrics import accuracy_score\n",
    "import torch\n",
    "from torch.utils.data import DataLoader, Dataset\n",
    "from torch.nn.utils.rnn import pad_sequence\n",
    "\n",
    "class HateBERTModel:\n",
    "    def __init__(self):\n",
    "        self.model = BertForSequenceClassification.from_pretrained(\"GroNLP/hateBERT\", num_labels=2)\n",
    "        self.tokenizer = BertTokenizer.from_pretrained(\"GroNLP/hateBERT\")\n",
    "            \n",
    "    def prepare_X(self, X):\n",
    "        \"\"\"Generates encoded padded tensors from the input data\"\"\"\n",
    "        X_text = [' '.join(tokens) for tokens in X]\n",
    "        encoded = [self.tokenizer.encode(text) for text in X_text]\n",
    "        padded = pad_sequence([torch.tensor(seq) for seq in encoded], batch_first=True, padding_value=self.tokenizer.pad_token_id)\n",
    "        return padded\n",
    "    \n",
    "    def prepare_dataset(self, X, y=None):\n",
    "        \"\"\"Create a PyTorch dataset from the input data\"\"\"\n",
    "        class TextDataset(Dataset):\n",
    "            def __init__(self, X, y=None):\n",
    "                self.X = X\n",
    "                self.y = y\n",
    "            \n",
    "            def __len__(self):\n",
    "                return len(self.X)\n",
    "            \n",
    "            def __getitem__(self, idx):\n",
    "                if self.y is not None:\n",
    "                    return self.X[idx], self.y[idx]\n",
    "                return self.X[idx]\n",
    "        return TextDataset(X, y)\n",
    "    \n",
    "    \n",
    "    def train(self, X_train, y_train, X_dev, y_dev, epochs=3, batch_size=32, lr=5e-5):\n",
    "        X_train = self.prepare_X(X_train)\n",
    "        X_dev = self.prepare_X(X_dev)\n",
    "        \n",
    "        train_dataset = self.prepare_dataset(X_train, y_train)\n",
    "        dev_dataset = self.prepare_dataset(X_dev, y_dev)\n",
    "        \n",
    "        train_loader = DataLoader(train_dataset, batch_size=batch_size, shuffle=True)\n",
    "        dev_loader = DataLoader(dev_dataset, batch_size=batch_size)\n",
    "        \n",
    "        #self.model.to('cuda' if torch.cuda.is_available() else 'cpu')\n",
    "        \n",
    "        # Define optimizer and loss function\n",
    "        optimizer = AdamW(self.model.parameters(), lr=lr)\n",
    "        loss_fn = torch.nn.CrossEntropyLoss()\n",
    "        \n",
    "        # Training loop\n",
    "        for epoch in range(epochs):\n",
    "            self.model.train()\n",
    "            total_loss = 0\n",
    "            for batch in train_loader:\n",
    "                optimizer.zero_grad()   \n",
    "                X_batch, y_batch = batch\n",
    "                #X_batch = X_batch.to('cuda' if torch.cuda.is_available() else 'cpu')\n",
    "                #y_batch = torch.tensor(y_batch).to('cuda' if torch.cuda.is_available() else 'cpu')\n",
    "                \n",
    "                outputs = self.model(X_batch, labels=y_batch)\n",
    "                loss = outputs.loss\n",
    "                loss.backward()\n",
    "                optimizer.step()\n",
    "                \n",
    "                total_loss += loss.item()\n",
    "            \n",
    "            print(f\"Epoch {epoch + 1}/{epochs}, Loss: {total_loss:.4f}\")\n",
    "            \n",
    "            # Validation\n",
    "            self.model.eval()\n",
    "            all_preds = []\n",
    "            all_labels = []\n",
    "            with torch.no_grad():\n",
    "                for batch in dev_loader:\n",
    "                    X_batch, y_batch = batch\n",
    "                    X_batch = X_batch.to('cuda' if torch.cuda.is_available() else 'cpu')\n",
    "                    outputs = self.model(X_batch)\n",
    "                    preds = torch.argmax(outputs.logits, dim=1).cpu().numpy()\n",
    "                    all_preds.extend(preds)\n",
    "                    all_labels.extend(y_batch.numpy())\n",
    "            \n",
    "            acc = accuracy_score(all_labels, all_preds)\n",
    "            print(f\"Validation Accuracy: {acc:.4f}\")\n",
    "    \n",
    "    def predict(self, X):\n",
    "        X = self.prepare_X(X)\n",
    "        dataset = self.prepare_dataset(X)\n",
    "        data_loader = DataLoader(dataset, batch_size=32)\n",
    "        \n",
    "        self.model.eval()\n",
    "        predictions = []\n",
    "        with torch.no_grad():\n",
    "            for batch in data_loader:\n",
    "                batch = batch.to('cuda' if torch.cuda.is_available() else 'cpu')\n",
    "                outputs = self.model(batch)\n",
    "                preds = torch.argmax(outputs.logits, dim=1).cpu().numpy()\n",
    "                predictions.extend(preds)\n",
    "        \n",
    "        return predictions"
   ]
  },
  {
   "cell_type": "code",
   "execution_count": 33,
   "metadata": {},
   "outputs": [
    {
     "name": "stderr",
     "output_type": "stream",
     "text": [
      "Some weights of BertForSequenceClassification were not initialized from the model checkpoint at GroNLP/hateBERT and are newly initialized: ['classifier.bias', 'classifier.weight']\n",
      "You should probably TRAIN this model on a down-stream task to be able to use it for predictions and inference.\n",
      "c:\\Users\\jogip\\OneDrive - TU Wien\\Master\\Natural Language Processing\\NLP_24W_VSHJ\\venv\\Lib\\site-packages\\transformers\\optimization.py:591: FutureWarning: This implementation of AdamW is deprecated and will be removed in a future version. Use the PyTorch implementation torch.optim.AdamW instead, or set `no_deprecation_warning=True` to disable this warning\n",
      "  warnings.warn(\n"
     ]
    },
    {
     "name": "stdout",
     "output_type": "stream",
     "text": [
      "Epoch 1/3, Loss: 49.2877\n",
      "Validation Accuracy: 0.8430\n",
      "Epoch 2/3, Loss: 29.5136\n",
      "Validation Accuracy: 0.8420\n",
      "Epoch 3/3, Loss: 9.9269\n",
      "Validation Accuracy: 0.8330\n"
     ]
    }
   ],
   "source": [
    "model = HateBERTModel()\n",
    "model.train(X_train[:3000], y_train[:3000], X_val[:1000], y_val[:1000])"
   ]
  },
  {
   "cell_type": "code",
   "execution_count": 34,
   "metadata": {},
   "outputs": [],
   "source": [
    "from sklearn.metrics import accuracy_score, balanced_accuracy_score, precision_score, recall_score, confusion_matrix\n",
    "import seaborn as sns\n",
    "\n",
    "def _calculate_print_metrics(y_true, y_pred):\n",
    "    \"\"\"\n",
    "    Calculate and print accuracy, balanced accuracy, precision and recall.\n",
    "    \"\"\"\n",
    "    accuracy = accuracy_score(y_true, y_pred)\n",
    "    balanced_accuracy = balanced_accuracy_score(y_true, y_pred)\n",
    "    precision = precision_score(y_true, y_pred, zero_division=0.0, pos_label='sexist')\n",
    "    recall = recall_score(y_true, y_pred, zero_division=0.0, pos_label='sexist')\n",
    "\n",
    "    print(f\"accuracy: {accuracy:.4f}\")\n",
    "    print(f\"balanced accuracy: {balanced_accuracy:.4f}\")\n",
    "    print(f\"precision: {precision:.4f}\")\n",
    "    print(f\"recall: {recall:.4f}\")\n",
    "    return accuracy, balanced_accuracy, precision, recall\n",
    "\n",
    "def evaluate(model, X, y_true):\n",
    "    \"\"\"\n",
    "    Evaluate the model on train and validation sets.\n",
    "    Metrics: accuracy, balanced accuracy, precision, recall.\n",
    "    \"\"\"\n",
    "    y_pred = model.predict(X)\n",
    "\n",
    "    y_pred = convert_labels_to_string(y_pred)\n",
    "    y_true = convert_labels_to_string(y_true)\n",
    "\n",
    "    print(\"#\" * 40 + \"\\n\")\n",
    "    _calculate_print_metrics(y_true, y_pred)\n",
    "    print(\"\\n\" + \"#\" * 40 + \"\\n\")\n",
    "\n",
    "    cm = confusion_matrix(y_true, y_pred)\n",
    "\n",
    "    sns.heatmap(cm, annot=True, fmt='d', cmap='Blues', cbar=False,\n",
    "                xticklabels=[\"0 - not sexist\", \"1 - sexist\"], yticklabels=[\"0 - not sexist\", \"1 - sexist\"])\n",
    "    plt.title(f'Confusion matrix')\n",
    "    plt.xlabel('predicted')\n",
    "    plt.ylabel('actual')\n",
    "    plt.show()\n",
    "    \n",
    "    return results\n",
    "\n"
   ]
  },
  {
   "cell_type": "code",
   "execution_count": 35,
   "metadata": {},
   "outputs": [
    {
     "name": "stdout",
     "output_type": "stream",
     "text": [
      "########################################\n",
      "\n",
      "accuracy: 0.8330\n",
      "balanced accuracy: 0.7128\n",
      "precision: 0.7881\n",
      "recall: 0.4685\n",
      "\n",
      "########################################\n",
      "\n"
     ]
    },
    {
     "data": {
      "image/png": "[encoded data removed]",
      "text/plain": [
       "<Figure size 640x480 with 1 Axes>"
      ]
     },
     "metadata": {},
     "output_type": "display_data"
    },
    {
     "data": {
      "text/html": [
       "<div>\n",
       "<style scoped>\n",
       "    .dataframe tbody tr th:only-of-type {\n",
       "        vertical-align: middle;\n",
       "    }\n",
       "\n",
       "    .dataframe tbody tr th {\n",
       "        vertical-align: top;\n",
       "    }\n",
       "\n",
       "    .dataframe thead th {\n",
       "        text-align: right;\n",
       "    }\n",
       "</style>\n",
       "<table border=\"1\" class=\"dataframe\">\n",
       "  <thead>\n",
       "    <tr style=\"text-align: right;\">\n",
       "      <th></th>\n",
       "      <th>Model</th>\n",
       "      <th>Dataset</th>\n",
       "      <th>Accuracy</th>\n",
       "      <th>Balanced_Accuracy</th>\n",
       "      <th>Precision</th>\n",
       "      <th>Recall</th>\n",
       "    </tr>\n",
       "  </thead>\n",
       "  <tbody>\n",
       "  </tbody>\n",
       "</table>\n",
       "</div>"
      ],
      "text/plain": [
       "Empty DataFrame\n",
       "Columns: [Model, Dataset, Accuracy, Balanced_Accuracy, Precision, Recall]\n",
       "Index: []"
      ]
     },
     "execution_count": 35,
     "metadata": {},
     "output_type": "execute_result"
    }
   ],
   "source": [
    "evaluate(model, X_val[:1000], y_val[:1000])"
   ]
  },
  {
   "cell_type": "code",
   "execution_count": 36,
   "metadata": {},
   "outputs": [],
   "source": [
    "from transformers import DistilBertTokenizer, DistilBertForSequenceClassification, AdamW\n",
    "import time\n",
    "\n",
    "class DistilBERTModel:\n",
    "    def __init__(self):\n",
    "        self.model = DistilBertForSequenceClassification.from_pretrained(\"distilbert-base-uncased\", num_labels=2)\n",
    "        self.tokenizer = DistilBertTokenizer.from_pretrained(\"distilbert-base-uncased\")\n",
    "            \n",
    "    def prepare_X(self, X):\n",
    "        \"\"\"Generates encoded padded tensors from the input data\"\"\"\n",
    "        X_text = [' '.join(tokens) for tokens in X]\n",
    "        encoded = [self.tokenizer.encode(text) for text in X_text]\n",
    "        padded = pad_sequence([torch.tensor(seq) for seq in encoded], batch_first=True, padding_value=self.tokenizer.pad_token_id)\n",
    "        return padded\n",
    "    \n",
    "    def prepare_dataset(self, X, y=None):\n",
    "        \"\"\"Create a PyTorch dataset from the input data\"\"\"\n",
    "        class TextDataset(Dataset):\n",
    "            def __init__(self, X, y=None):\n",
    "                self.X = X\n",
    "                self.y = y\n",
    "            \n",
    "            def __len__(self):\n",
    "                return len(self.X)\n",
    "            \n",
    "            def __getitem__(self, idx):\n",
    "                if self.y is not None:\n",
    "                    return self.X[idx], self.y[idx]\n",
    "                return self.X[idx]\n",
    "        return TextDataset(X, y)\n",
    "    \n",
    "    \n",
    "    def train(self, X_train, y_train, X_dev, y_dev, epochs=3, batch_size=32, lr=5e-5):\n",
    "        X_train = self.prepare_X(X_train)\n",
    "        X_dev = self.prepare_X(X_dev)\n",
    "        \n",
    "        train_dataset = self.prepare_dataset(X_train, y_train)\n",
    "        dev_dataset = self.prepare_dataset(X_dev, y_dev)\n",
    "        \n",
    "        train_loader = DataLoader(train_dataset, batch_size=batch_size, shuffle=True)\n",
    "        dev_loader = DataLoader(dev_dataset, batch_size=batch_size)\n",
    "        \n",
    "        #self.model.to('cuda' if torch.cuda.is_available() else 'cpu')\n",
    "        \n",
    "        # Define optimizer and loss function\n",
    "        optimizer = AdamW(self.model.parameters(), lr=lr)\n",
    "        loss_fn = torch.nn.CrossEntropyLoss()\n",
    "        \n",
    "        # Training loop\n",
    "        for epoch in range(epochs):\n",
    "            starting_time = time.time()\n",
    "            \n",
    "            self.model.train()\n",
    "            total_loss = 0\n",
    "            for batch in train_loader:\n",
    "                optimizer.zero_grad()   \n",
    "                X_batch, y_batch = batch\n",
    "                #X_batch = X_batch.to('cuda' if torch.cuda.is_available() else 'cpu')\n",
    "                #y_batch = y_batch.to('cuda' if torch.cuda.is_available() else 'cpu')\n",
    "                \n",
    "                outputs = self.model(X_batch, labels=y_batch)\n",
    "                loss = outputs.loss\n",
    "                loss.backward()\n",
    "                optimizer.step()\n",
    "                \n",
    "                total_loss += loss.item()\n",
    "            \n",
    "            print(f\"Epoch {epoch + 1}/{epochs}, Loss: {total_loss:.4f}\")\n",
    "            \n",
    "            # Validation\n",
    "            self.model.eval()\n",
    "            all_preds = []\n",
    "            all_labels = []\n",
    "            with torch.no_grad():\n",
    "                for batch in dev_loader:\n",
    "                    X_batch, y_batch = batch\n",
    "                    X_batch = X_batch.to('cuda' if torch.cuda.is_available() else 'cpu')\n",
    "                    outputs = self.model(X_batch)\n",
    "                    preds = torch.argmax(outputs.logits, dim=1).cpu().numpy()\n",
    "                    all_preds.extend(preds)\n",
    "                    all_labels.extend(y_batch.numpy())\n",
    "            \n",
    "            acc = accuracy_score(all_labels, all_preds)\n",
    "            print(f\"Validation Accuracy: {acc:.4f}\")\n",
    "            print(f\"Time taken: {time.time() - starting_time:.2f}s\")\n",
    "    \n",
    "    def predict(self, X):\n",
    "        X = self.prepare_X(X)\n",
    "        dataset = self.prepare_dataset(X)\n",
    "        data_loader = DataLoader(dataset, batch_size=32)\n",
    "        \n",
    "        self.model.eval()\n",
    "        predictions = []\n",
    "        with torch.no_grad():\n",
    "            for batch in data_loader:\n",
    "                batch = batch.to('cuda' if torch.cuda.is_available() else 'cpu')\n",
    "                outputs = self.model(batch)\n",
    "                preds = torch.argmax(outputs.logits, dim=1).cpu().numpy()\n",
    "                predictions.extend(preds)\n",
    "        \n",
    "        return predictions"
   ]
  },
  {
   "cell_type": "code",
   "execution_count": 37,
   "metadata": {},
   "outputs": [
    {
     "name": "stderr",
     "output_type": "stream",
     "text": [
      "c:\\Users\\jogip\\OneDrive - TU Wien\\Master\\Natural Language Processing\\NLP_24W_VSHJ\\venv\\Lib\\site-packages\\huggingface_hub\\file_download.py:140: UserWarning: `huggingface_hub` cache-system uses symlinks by default to efficiently store duplicated files but your machine does not support them in C:\\Users\\jogip\\.cache\\huggingface\\hub\\models--distilbert-base-uncased. Caching files will still work but in a degraded version that might require more space on your disk. This warning can be disabled by setting the `HF_HUB_DISABLE_SYMLINKS_WARNING` environment variable. For more details, see https://huggingface.co/docs/huggingface_hub/how-to-cache#limitations.\n",
      "To support symlinks on Windows, you either need to activate Developer Mode or to run Python as an administrator. In order to activate developer mode, see this article: https://docs.microsoft.com/en-us/windows/apps/get-started/enable-your-device-for-development\n",
      "  warnings.warn(message)\n",
      "Some weights of DistilBertForSequenceClassification were not initialized from the model checkpoint at distilbert-base-uncased and are newly initialized: ['classifier.bias', 'classifier.weight', 'pre_classifier.bias', 'pre_classifier.weight']\n",
      "You should probably TRAIN this model on a down-stream task to be able to use it for predictions and inference.\n",
      "c:\\Users\\jogip\\OneDrive - TU Wien\\Master\\Natural Language Processing\\NLP_24W_VSHJ\\venv\\Lib\\site-packages\\transformers\\optimization.py:591: FutureWarning: This implementation of AdamW is deprecated and will be removed in a future version. Use the PyTorch implementation torch.optim.AdamW instead, or set `no_deprecation_warning=True` to disable this warning\n",
      "  warnings.warn(\n"
     ]
    },
    {
     "name": "stdout",
     "output_type": "stream",
     "text": [
      "Epoch 1/3, Loss: 56.3043\n",
      "Validation Accuracy: 0.7460\n",
      "Time taken: 227.23s\n",
      "Epoch 2/3, Loss: 48.3789\n",
      "Validation Accuracy: 0.8320\n",
      "Time taken: 233.31s\n",
      "Epoch 3/3, Loss: 37.6534\n",
      "Validation Accuracy: 0.8070\n",
      "Time taken: 231.96s\n"
     ]
    }
   ],
   "source": [
    "model = DistilBERTModel()\n",
    "model.train(X_train[:3000], y_train[:3000], X_val[:1000], y_val[:1000])"
   ]
  },
  {
   "cell_type": "code",
   "execution_count": 38,
   "metadata": {},
   "outputs": [
    {
     "name": "stdout",
     "output_type": "stream",
     "text": [
      "########################################\n",
      "\n",
      "accuracy: 0.8070\n",
      "balanced accuracy: 0.7577\n",
      "precision: 0.6117\n",
      "recall: 0.6575\n",
      "\n",
      "########################################\n",
      "\n"
     ]
    },
    {
     "data": {
      "image/png": "[encoded data removed]",
      "text/plain": [
       "<Figure size 640x480 with 1 Axes>"
      ]
     },
     "metadata": {},
     "output_type": "display_data"
    },
    {
     "data": {
      "text/html": [
       "<div>\n",
       "<style scoped>\n",
       "    .dataframe tbody tr th:only-of-type {\n",
       "        vertical-align: middle;\n",
       "    }\n",
       "\n",
       "    .dataframe tbody tr th {\n",
       "        vertical-align: top;\n",
       "    }\n",
       "\n",
       "    .dataframe thead th {\n",
       "        text-align: right;\n",
       "    }\n",
       "</style>\n",
       "<table border=\"1\" class=\"dataframe\">\n",
       "  <thead>\n",
       "    <tr style=\"text-align: right;\">\n",
       "      <th></th>\n",
       "      <th>Model</th>\n",
       "      <th>Dataset</th>\n",
       "      <th>Accuracy</th>\n",
       "      <th>Balanced_Accuracy</th>\n",
       "      <th>Precision</th>\n",
       "      <th>Recall</th>\n",
       "    </tr>\n",
       "  </thead>\n",
       "  <tbody>\n",
       "  </tbody>\n",
       "</table>\n",
       "</div>"
      ],
      "text/plain": [
       "Empty DataFrame\n",
       "Columns: [Model, Dataset, Accuracy, Balanced_Accuracy, Precision, Recall]\n",
       "Index: []"
      ]
     },
     "execution_count": 38,
     "metadata": {},
     "output_type": "execute_result"
    }
   ],
   "source": [
    "evaluate(model, X_val[:1000], y_val[:1000])"
   ]
  }
 ],
 "metadata": {
  "kernelspec": {
   "display_name": "venv",
   "language": "python",
   "name": "python3"
  },
  "language_info": {
   "codemirror_mode": {
    "name": "ipython",
    "version": 3
   },
   "file_extension": ".py",
   "mimetype": "text/x-python",
   "name": "python",
   "nbconvert_exporter": "python",
   "pygments_lexer": "ipython3",
   "version": "3.11.5"
  }
 },
 "nbformat": 4,
 "nbformat_minor": 2
}

{
 "cells": [
  {
   "cell_type": "code",
   "execution_count": 47,
   "metadata": {},
   "outputs": [],
   "source": [
    "from io import open\n",
    "import conllu\n",
    "\n",
    "with open(\"../milestone 1/dev_sexism_dataset_conllu.conllu\", encoding='ISO-8859-1') as f:\n",
    "    data = conllu.parse(f.read())\n",
    "\n",
    "X = []\n",
    "y = []\n",
    "\n",
    "for tokenlist in data:\n",
    "    y.append(tokenlist.metadata['label_sexist'])\n",
    "    X.append([token['form'] for token in tokenlist])\n",
    "    "
   ]
  },
  {
   "cell_type": "code",
   "execution_count": 42,
   "metadata": {},
   "outputs": [
    {
     "name": "stdout",
     "output_type": "stream",
     "text": [
      "['nigeria', ',', 'rape', 'woman', ',', 'men', 'rape', 'back', '!', 'nsfw', '``', 'nigeria', ',', 'rape', 'woman', ',', 'guys', 'rape', 'back', '!', \"''\"]\n",
      "not sexist\n"
     ]
    }
   ],
   "source": [
    "print(X[0])\n",
    "print(y[0])"
   ]
  },
  {
   "cell_type": "code",
   "execution_count": 45,
   "metadata": {},
   "outputs": [],
   "source": [
    "import numpy as np\n",
    "import seaborn as sns\n",
    "import matplotlib.pyplot as plt\n",
    "from import_preprocess import ImportPreprocess\n",
    "from evaluate import Evaluation\n",
    "from sklearn.metrics import confusion_matrix\n",
    "import tensorflow as tf\n",
    "from tensorflow.keras.preprocessing.sequence import pad_sequences\n",
    "from tensorflow.keras.preprocessing.text import Tokenizer\n",
    "from tensorflow.keras.models import Sequential\n",
    "from tensorflow.keras.layers import Embedding, LSTM, Dense"
   ]
  },
  {
   "cell_type": "code",
   "execution_count": 46,
   "metadata": {},
   "outputs": [],
   "source": [
    "import_preprocess = ImportPreprocess()\n",
    "import_preprocess.import_train_dev_test()\n",
    "\n",
    "X_train, y_train = import_preprocess.X_train, import_preprocess.y_train\n",
    "X_dev, y_dev = import_preprocess.X_dev, import_preprocess.y_dev\n",
    "X_test, y_test = import_preprocess.X_test, import_preprocess.y_test"
   ]
  },
  {
   "cell_type": "code",
   "execution_count": 47,
   "metadata": {},
   "outputs": [],
   "source": [
    "import_preprocess.convert_class_labels()\n",
    "y_train, y_dev, y_test = import_preprocess.y_train, import_preprocess.y_dev, import_preprocess.y_test"
   ]
  },
  {
   "cell_type": "code",
   "execution_count": 48,
   "metadata": {},
   "outputs": [],
   "source": [
    "def rnn_model(input_length):\n",
    "    model = Sequential()\n",
    "    model.add(Embedding(input_dim = input_length, output_dim = 64))\n",
    "    model.add(LSTM(32))\n",
    "    model.add(Dense(1, activation='sigmoid'))\n",
    "    model.compile(optimizer='rmsprop', loss='binary_crossentropy', metrics=['accuracy'])\n",
    "    return model"
   ]
  },
  {
   "cell_type": "code",
   "execution_count": 52,
   "metadata": {},
   "outputs": [
    {
     "name": "stdout",
     "output_type": "stream",
     "text": [
      "['like', 'metallica', 'video', 'poor', 'mutilated', 'bastard', 'saying', '``', 'please', 'kill', \"''\", ',', 'emojis', 'instead', 'morse', 'code', '.']\n"
     ]
    }
   ],
   "source": [
    "print(X_train[1])"
   ]
  },
  {
   "cell_type": "code",
   "execution_count": 54,
   "metadata": {},
   "outputs": [],
   "source": [
    "def run_rnn(X_train, y_train, X_dev, y_dev):\n",
    "    tokenizer = Tokenizer()\n",
    "    tokenizer.fit_on_texts(X_train)\n",
    "    n = len(tokenizer.word_index) + 1\n",
    "    \n",
    "    X_t = tokenizer.texts_to_sequences(X_train)\n",
    "    X_t = pad_sequences(X_t, maxlen=100)\n",
    "    \n",
    "    X_d = tokenizer.texts_to_sequences(X_dev)\n",
    "    X_d = pad_sequences(X_d, maxlen=100)\n",
    "\n",
    "    y_t = np.array(y_train)\n",
    "    y_d = np.array(y_dev)\n",
    "    \n",
    "    model = rnn_model(input_length = n)\n",
    "    model.fit(X_t, y_t, epochs=10, batch_size=32, validation_data=(X_d, y_d))\n",
    "    \n",
    "    return model, tokenizer\n"
   ]
  },
  {
   "cell_type": "code",
   "execution_count": 55,
   "metadata": {},
   "outputs": [
    {
     "name": "stdout",
     "output_type": "stream",
     "text": [
      "Epoch 1/10\n",
      "\u001b[1m438/438\u001b[0m \u001b[32m━━━━━━━━━━━━━━━━━━━━\u001b[0m\u001b[37m\u001b[0m \u001b[1m7s\u001b[0m 14ms/step - accuracy: 0.7607 - loss: 0.5437 - val_accuracy: 0.7965 - val_loss: 0.4575\n",
      "Epoch 2/10\n",
      "\u001b[1m438/438\u001b[0m \u001b[32m━━━━━━━━━━━━━━━━━━━━\u001b[0m\u001b[37m\u001b[0m \u001b[1m6s\u001b[0m 13ms/step - accuracy: 0.8344 - loss: 0.3879 - val_accuracy: 0.8165 - val_loss: 0.4208\n",
      "Epoch 3/10\n",
      "\u001b[1m438/438\u001b[0m \u001b[32m━━━━━━━━━━━━━━━━━━━━\u001b[0m\u001b[37m\u001b[0m \u001b[1m6s\u001b[0m 14ms/step - accuracy: 0.8722 - loss: 0.3232 - val_accuracy: 0.8325 - val_loss: 0.4586\n",
      "Epoch 4/10\n",
      "\u001b[1m438/438\u001b[0m \u001b[32m━━━━━━━━━━━━━━━━━━━━\u001b[0m\u001b[37m\u001b[0m \u001b[1m6s\u001b[0m 14ms/step - accuracy: 0.8909 - loss: 0.2826 - val_accuracy: 0.7975 - val_loss: 0.4500\n",
      "Epoch 5/10\n",
      "\u001b[1m438/438\u001b[0m \u001b[32m━━━━━━━━━━━━━━━━━━━━\u001b[0m\u001b[37m\u001b[0m \u001b[1m6s\u001b[0m 14ms/step - accuracy: 0.9029 - loss: 0.2611 - val_accuracy: 0.8300 - val_loss: 0.4716\n",
      "Epoch 6/10\n",
      "\u001b[1m438/438\u001b[0m \u001b[32m━━━━━━━━━━━━━━━━━━━━\u001b[0m\u001b[37m\u001b[0m \u001b[1m6s\u001b[0m 14ms/step - accuracy: 0.9168 - loss: 0.2306 - val_accuracy: 0.8305 - val_loss: 0.4795\n",
      "Epoch 7/10\n",
      "\u001b[1m438/438\u001b[0m \u001b[32m━━━━━━━━━━━━━━━━━━━━\u001b[0m\u001b[37m\u001b[0m \u001b[1m6s\u001b[0m 15ms/step - accuracy: 0.9245 - loss: 0.2100 - val_accuracy: 0.8240 - val_loss: 0.5051\n",
      "Epoch 8/10\n",
      "\u001b[1m438/438\u001b[0m \u001b[32m━━━━━━━━━━━━━━━━━━━━\u001b[0m\u001b[37m\u001b[0m \u001b[1m6s\u001b[0m 15ms/step - accuracy: 0.9394 - loss: 0.1709 - val_accuracy: 0.8270 - val_loss: 0.5251\n",
      "Epoch 9/10\n",
      "\u001b[1m438/438\u001b[0m \u001b[32m━━━━━━━━━━━━━━━━━━━━\u001b[0m\u001b[37m\u001b[0m \u001b[1m6s\u001b[0m 15ms/step - accuracy: 0.9493 - loss: 0.1518 - val_accuracy: 0.8050 - val_loss: 0.5922\n",
      "Epoch 10/10\n",
      "\u001b[1m438/438\u001b[0m \u001b[32m━━━━━━━━━━━━━━━━━━━━\u001b[0m\u001b[37m\u001b[0m \u001b[1m7s\u001b[0m 15ms/step - accuracy: 0.9538 - loss: 0.1355 - val_accuracy: 0.7925 - val_loss: 0.6794\n"
     ]
    }
   ],
   "source": [
    "RNN, tokenizer = run_rnn(X_train, y_train, X_dev, y_dev)"
   ]
  },
  {
   "cell_type": "code",
   "execution_count": 58,
   "metadata": {},
   "outputs": [],
   "source": [
    "def evaluate_rnn(model, tokenizer, X_test, y_test):\n",
    "    X_test_ = tokenizer.texts_to_sequences(X_test)\n",
    "    X_test_ = pad_sequences(X_test_, maxlen=100)\n",
    "    \n",
    "    y_true = np.array(y_test)\n",
    "    \n",
    "    y_pred = model.predict(X_test_)\n",
    "    y_pred = np.round(y_pred)\n",
    "    \n",
    "    evaluation = Evaluation(RNN)\n",
    "    evaluation.calculate_print_metrics(y_true, y_pred)\n",
    "    \n",
    "    cm = confusion_matrix(y_true, y_pred)\n",
    "    sns.heatmap(cm, annot=True, fmt='d', cmap='Blues', cbar=False,\n",
    "                xticklabels=[\"0 - not sexist\", \"1 - sexist\"], yticklabels=[\"0 - not sexist\", \"1 - sexist\"])\n",
    "    plt.xlabel('Predicted')\n",
    "    plt.ylabel('Actual')\n",
    "    plt.title('Confusion Matrix')\n",
    "    plt.show()\n",
    "    \n",
    "    return evaluation"
   ]
  },
  {
   "cell_type": "code",
   "execution_count": 59,
   "metadata": {},
   "outputs": [
    {
     "name": "stdout",
     "output_type": "stream",
     "text": [
      "\u001b[1m125/125\u001b[0m \u001b[32m━━━━━━━━━━━━━━━━━━━━\u001b[0m\u001b[37m\u001b[0m \u001b[1m1s\u001b[0m 4ms/step\n",
      "accuracy: 0.8130\n",
      "balanced accuracy: 0.7332\n",
      "precision: 0.6233\n",
      "recall: 0.5784\n"
     ]
    },
    {
     "data": {
      "image/png": "[encoded data removed]",
      "text/plain": [
       "<Figure size 640x480 with 1 Axes>"
      ]
     },
     "metadata": {},
     "output_type": "display_data"
    },
    {
     "data": {
      "text/plain": [
       "<evaluate.Evaluation at 0x22bd45a9d50>"
      ]
     },
     "execution_count": 59,
     "metadata": {},
     "output_type": "execute_result"
    }
   ],
   "source": [
    "evaluate_rnn(RNN, tokenizer, X_test, y_test)"
   ]
  }
 ],
 "metadata": {
  "kernelspec": {
   "display_name": "venv",
   "language": "python",
   "name": "python3"
  },
  "language_info": {
   "codemirror_mode": {
    "name": "ipython",
    "version": 3
   },
   "file_extension": ".py",
   "mimetype": "text/x-python",
   "name": "python",
   "nbconvert_exporter": "python",
   "pygments_lexer": "ipython3",
   "version": "3.11.5"
  }
 },
 "nbformat": 4,
 "nbformat_minor": 2
}

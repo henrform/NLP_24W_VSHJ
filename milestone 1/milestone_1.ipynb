{
 "cells": [
  {
   "cell_type": "markdown",
   "metadata": {},
   "source": [
    "# Milestone 1: preprocessing\n",
    "___"
   ]
  },
  {
   "cell_type": "code",
   "execution_count": 1,
   "metadata": {},
   "outputs": [],
   "source": [
    "import pandas as pd\n",
    "import re\n",
    "from collections import Counter"
   ]
  },
  {
   "cell_type": "code",
   "execution_count": 2,
   "metadata": {},
   "outputs": [
    {
     "name": "stdout",
     "output_type": "stream",
     "text": [
      "Columns: ['rewire_id', 'text', 'annotator', 'label_sexist', 'label_category', 'label_vector', 'split']\n",
      "Shape: (60000, 7)\n"
     ]
    },
    {
     "data": {
      "text/html": [
       "<div>\n",
       "<style scoped>\n",
       "    .dataframe tbody tr th:only-of-type {\n",
       "        vertical-align: middle;\n",
       "    }\n",
       "\n",
       "    .dataframe tbody tr th {\n",
       "        vertical-align: top;\n",
       "    }\n",
       "\n",
       "    .dataframe thead th {\n",
       "        text-align: right;\n",
       "    }\n",
       "</style>\n",
       "<table border=\"1\" class=\"dataframe\">\n",
       "  <thead>\n",
       "    <tr style=\"text-align: right;\">\n",
       "      <th></th>\n",
       "      <th>rewire_id</th>\n",
       "      <th>text</th>\n",
       "      <th>annotator</th>\n",
       "      <th>label_sexist</th>\n",
       "      <th>label_category</th>\n",
       "      <th>label_vector</th>\n",
       "      <th>split</th>\n",
       "    </tr>\n",
       "  </thead>\n",
       "  <tbody>\n",
       "    <tr>\n",
       "      <th>0</th>\n",
       "      <td>sexism2022_english-0</td>\n",
       "      <td>[USER] I wonder what keeps that witch looking ...</td>\n",
       "      <td>17</td>\n",
       "      <td>sexist</td>\n",
       "      <td>2. derogation</td>\n",
       "      <td>2.2 aggressive and emotive attacks</td>\n",
       "      <td>train</td>\n",
       "    </tr>\n",
       "    <tr>\n",
       "      <th>1</th>\n",
       "      <td>sexism2022_english-0</td>\n",
       "      <td>[USER] I wonder what keeps that witch looking ...</td>\n",
       "      <td>2</td>\n",
       "      <td>sexist</td>\n",
       "      <td>2. derogation</td>\n",
       "      <td>2.2 aggressive and emotive attacks</td>\n",
       "      <td>train</td>\n",
       "    </tr>\n",
       "    <tr>\n",
       "      <th>2</th>\n",
       "      <td>sexism2022_english-0</td>\n",
       "      <td>[USER] I wonder what keeps that witch looking ...</td>\n",
       "      <td>6</td>\n",
       "      <td>not sexist</td>\n",
       "      <td>none</td>\n",
       "      <td>none</td>\n",
       "      <td>train</td>\n",
       "    </tr>\n",
       "    <tr>\n",
       "      <th>3</th>\n",
       "      <td>sexism2022_english-1</td>\n",
       "      <td>What do you guys think about female \"incels\"? ...</td>\n",
       "      <td>17</td>\n",
       "      <td>not sexist</td>\n",
       "      <td>none</td>\n",
       "      <td>none</td>\n",
       "      <td>train</td>\n",
       "    </tr>\n",
       "    <tr>\n",
       "      <th>4</th>\n",
       "      <td>sexism2022_english-1</td>\n",
       "      <td>What do you guys think about female \"incels\"? ...</td>\n",
       "      <td>15</td>\n",
       "      <td>not sexist</td>\n",
       "      <td>none</td>\n",
       "      <td>none</td>\n",
       "      <td>train</td>\n",
       "    </tr>\n",
       "  </tbody>\n",
       "</table>\n",
       "</div>"
      ],
      "text/plain": [
       "              rewire_id                                               text  \\\n",
       "0  sexism2022_english-0  [USER] I wonder what keeps that witch looking ...   \n",
       "1  sexism2022_english-0  [USER] I wonder what keeps that witch looking ...   \n",
       "2  sexism2022_english-0  [USER] I wonder what keeps that witch looking ...   \n",
       "3  sexism2022_english-1  What do you guys think about female \"incels\"? ...   \n",
       "4  sexism2022_english-1  What do you guys think about female \"incels\"? ...   \n",
       "\n",
       "   annotator label_sexist label_category                        label_vector  \\\n",
       "0         17       sexist  2. derogation  2.2 aggressive and emotive attacks   \n",
       "1          2       sexist  2. derogation  2.2 aggressive and emotive attacks   \n",
       "2          6   not sexist           none                                none   \n",
       "3         17   not sexist           none                                none   \n",
       "4         15   not sexist           none                                none   \n",
       "\n",
       "   split  \n",
       "0  train  \n",
       "1  train  \n",
       "2  train  \n",
       "3  train  \n",
       "4  train  "
      ]
     },
     "execution_count": 2,
     "metadata": {},
     "output_type": "execute_result"
    }
   ],
   "source": [
    "data = pd.read_csv('../data/edos_labelled_individual_annotations.csv')\n",
    "print(\"Columns:\", list(data.columns))\n",
    "print(\"Shape:\", data.shape)\n",
    "data.head()"
   ]
  },
  {
   "cell_type": "markdown",
   "metadata": {},
   "source": [
    "The dataset contains a more fine-grained sexism detection, but we're working only with the `label_sexist`."
   ]
  },
  {
   "cell_type": "code",
   "execution_count": 3,
   "metadata": {},
   "outputs": [
    {
     "data": {
      "text/html": [
       "<div>\n",
       "<style scoped>\n",
       "    .dataframe tbody tr th:only-of-type {\n",
       "        vertical-align: middle;\n",
       "    }\n",
       "\n",
       "    .dataframe tbody tr th {\n",
       "        vertical-align: top;\n",
       "    }\n",
       "\n",
       "    .dataframe thead th {\n",
       "        text-align: right;\n",
       "    }\n",
       "</style>\n",
       "<table border=\"1\" class=\"dataframe\">\n",
       "  <thead>\n",
       "    <tr style=\"text-align: right;\">\n",
       "      <th></th>\n",
       "      <th>rewire_id</th>\n",
       "      <th>text</th>\n",
       "      <th>annotator</th>\n",
       "      <th>label_sexist</th>\n",
       "      <th>split</th>\n",
       "    </tr>\n",
       "  </thead>\n",
       "  <tbody>\n",
       "    <tr>\n",
       "      <th>0</th>\n",
       "      <td>sexism2022_english-0</td>\n",
       "      <td>[USER] I wonder what keeps that witch looking ...</td>\n",
       "      <td>17</td>\n",
       "      <td>sexist</td>\n",
       "      <td>train</td>\n",
       "    </tr>\n",
       "    <tr>\n",
       "      <th>1</th>\n",
       "      <td>sexism2022_english-0</td>\n",
       "      <td>[USER] I wonder what keeps that witch looking ...</td>\n",
       "      <td>2</td>\n",
       "      <td>sexist</td>\n",
       "      <td>train</td>\n",
       "    </tr>\n",
       "    <tr>\n",
       "      <th>2</th>\n",
       "      <td>sexism2022_english-0</td>\n",
       "      <td>[USER] I wonder what keeps that witch looking ...</td>\n",
       "      <td>6</td>\n",
       "      <td>not sexist</td>\n",
       "      <td>train</td>\n",
       "    </tr>\n",
       "    <tr>\n",
       "      <th>3</th>\n",
       "      <td>sexism2022_english-1</td>\n",
       "      <td>What do you guys think about female \"incels\"? ...</td>\n",
       "      <td>17</td>\n",
       "      <td>not sexist</td>\n",
       "      <td>train</td>\n",
       "    </tr>\n",
       "    <tr>\n",
       "      <th>4</th>\n",
       "      <td>sexism2022_english-1</td>\n",
       "      <td>What do you guys think about female \"incels\"? ...</td>\n",
       "      <td>15</td>\n",
       "      <td>not sexist</td>\n",
       "      <td>train</td>\n",
       "    </tr>\n",
       "  </tbody>\n",
       "</table>\n",
       "</div>"
      ],
      "text/plain": [
       "              rewire_id                                               text  \\\n",
       "0  sexism2022_english-0  [USER] I wonder what keeps that witch looking ...   \n",
       "1  sexism2022_english-0  [USER] I wonder what keeps that witch looking ...   \n",
       "2  sexism2022_english-0  [USER] I wonder what keeps that witch looking ...   \n",
       "3  sexism2022_english-1  What do you guys think about female \"incels\"? ...   \n",
       "4  sexism2022_english-1  What do you guys think about female \"incels\"? ...   \n",
       "\n",
       "   annotator label_sexist  split  \n",
       "0         17       sexist  train  \n",
       "1          2       sexist  train  \n",
       "2          6   not sexist  train  \n",
       "3         17   not sexist  train  \n",
       "4         15   not sexist  train  "
      ]
     },
     "execution_count": 3,
     "metadata": {},
     "output_type": "execute_result"
    }
   ],
   "source": [
    "data = data.drop(columns=['label_category', 'label_vector'])\n",
    "data.head()"
   ]
  },
  {
   "cell_type": "markdown",
   "metadata": {},
   "source": [
    "### Exploratory analysis"
   ]
  },
  {
   "cell_type": "code",
   "execution_count": 4,
   "metadata": {},
   "outputs": [
    {
     "name": "stdout",
     "output_type": "stream",
     "text": [
      "There are: 19 different annotators.\n",
      "Annotator IDs: [0, 1, 2, 3, 4, 5, 6, 7, 8, 9, 10, 11, 12, 13, 14, 15, 16, 17, 18]\n"
     ]
    }
   ],
   "source": [
    "print(f\"There are: {len(data['annotator'].unique())} different annotators.\")\n",
    "print(\"Annotator IDs:\", sorted(data['annotator'].unique()))"
   ]
  },
  {
   "cell_type": "markdown",
   "metadata": {},
   "source": [
    "Each of the 20000 unique comments was annotated by 3 different annotators. In 4444 cases, annotators reached a 2/3 agreement rather than full 3/3."
   ]
  },
  {
   "cell_type": "code",
   "execution_count": 5,
   "metadata": {},
   "outputs": [
    {
     "name": "stdout",
     "output_type": "stream",
     "text": [
      "There are: 20000 different comments annotated in total.\n",
      "Minimum number of annotations for a comment: 3\n",
      "Maximum number of annotations for a comment: 3\n"
     ]
    }
   ],
   "source": [
    "print(f\"There are: {len(data['rewire_id'].unique())} different comments annotated in total.\")\n",
    "print(\"Minimum number of annotations for a comment:\", data['rewire_id'].value_counts().min())\n",
    "print(\"Maximum number of annotations for a comment:\", data['rewire_id'].value_counts().max())"
   ]
  },
  {
   "cell_type": "code",
   "execution_count": 6,
   "metadata": {},
   "outputs": [
    {
     "name": "stdout",
     "output_type": "stream",
     "text": [
      "Number of 'rewire_id' entries (comments) with 2/3 agreement among annotators: 4444\n",
      "rewire_id\n",
      "sexism2022_english-0       2\n",
      "sexism2022_english-1       1\n",
      "sexism2022_english-10      2\n",
      "sexism2022_english-100     1\n",
      "sexism2022_english-1000    1\n",
      "                          ..\n",
      "sexism2022_english-9995    1\n",
      "sexism2022_english-9996    2\n",
      "sexism2022_english-9997    1\n",
      "sexism2022_english-9998    2\n",
      "sexism2022_english-9999    2\n",
      "Name: label_sexist, Length: 20000, dtype: int64\n"
     ]
    }
   ],
   "source": [
    "unique_label_counts = data.groupby('rewire_id')['label_sexist'].nunique() # 1 (3/3 agreement) or 2 (2/3 agreement)\n",
    "agreement_2_3_count = (unique_label_counts != 1).sum() # number of comments where annotators have 2/3 agreement\n",
    "\n",
    "print(\"Number of 'rewire_id' entries (comments) with 2/3 agreement among annotators:\", agreement_2_3_count)\n",
    "print(unique_label_counts)"
   ]
  },
  {
   "cell_type": "markdown",
   "metadata": {},
   "source": [
    "### Aggregated dataset"
   ]
  },
  {
   "cell_type": "code",
   "execution_count": 6,
   "metadata": {},
   "outputs": [
    {
     "name": "stdout",
     "output_type": "stream",
     "text": [
      "Columns: ['rewire_id', 'text', 'label_sexist', 'split']\n",
      "Shape: (20000, 4)\n"
     ]
    },
    {
     "data": {
      "text/html": [
       "<div>\n",
       "<style scoped>\n",
       "    .dataframe tbody tr th:only-of-type {\n",
       "        vertical-align: middle;\n",
       "    }\n",
       "\n",
       "    .dataframe tbody tr th {\n",
       "        vertical-align: top;\n",
       "    }\n",
       "\n",
       "    .dataframe thead th {\n",
       "        text-align: right;\n",
       "    }\n",
       "</style>\n",
       "<table border=\"1\" class=\"dataframe\">\n",
       "  <thead>\n",
       "    <tr style=\"text-align: right;\">\n",
       "      <th></th>\n",
       "      <th>rewire_id</th>\n",
       "      <th>text</th>\n",
       "      <th>label_sexist</th>\n",
       "      <th>split</th>\n",
       "    </tr>\n",
       "  </thead>\n",
       "  <tbody>\n",
       "    <tr>\n",
       "      <th>0</th>\n",
       "      <td>sexism2022_english-9609</td>\n",
       "      <td>In Nigeria, if you rape a woman, the men rape ...</td>\n",
       "      <td>not sexist</td>\n",
       "      <td>dev</td>\n",
       "    </tr>\n",
       "    <tr>\n",
       "      <th>1</th>\n",
       "      <td>sexism2022_english-16993</td>\n",
       "      <td>Then, she's a keeper. 😉</td>\n",
       "      <td>not sexist</td>\n",
       "      <td>train</td>\n",
       "    </tr>\n",
       "    <tr>\n",
       "      <th>2</th>\n",
       "      <td>sexism2022_english-13149</td>\n",
       "      <td>This is like the Metallica video where the poo...</td>\n",
       "      <td>not sexist</td>\n",
       "      <td>train</td>\n",
       "    </tr>\n",
       "    <tr>\n",
       "      <th>3</th>\n",
       "      <td>sexism2022_english-13021</td>\n",
       "      <td>woman?</td>\n",
       "      <td>not sexist</td>\n",
       "      <td>train</td>\n",
       "    </tr>\n",
       "    <tr>\n",
       "      <th>4</th>\n",
       "      <td>sexism2022_english-966</td>\n",
       "      <td>I bet she wished she had a gun</td>\n",
       "      <td>not sexist</td>\n",
       "      <td>dev</td>\n",
       "    </tr>\n",
       "    <tr>\n",
       "      <th>...</th>\n",
       "      <td>...</td>\n",
       "      <td>...</td>\n",
       "      <td>...</td>\n",
       "      <td>...</td>\n",
       "    </tr>\n",
       "    <tr>\n",
       "      <th>19995</th>\n",
       "      <td>sexism2022_english-5228</td>\n",
       "      <td>girls really get fucked almost every weekend ?</td>\n",
       "      <td>not sexist</td>\n",
       "      <td>train</td>\n",
       "    </tr>\n",
       "    <tr>\n",
       "      <th>19996</th>\n",
       "      <td>sexism2022_english-10140</td>\n",
       "      <td>The hatred for moslems are Reasonable and Just...</td>\n",
       "      <td>not sexist</td>\n",
       "      <td>train</td>\n",
       "    </tr>\n",
       "    <tr>\n",
       "      <th>19997</th>\n",
       "      <td>sexism2022_english-9726</td>\n",
       "      <td>Now this is a woman who gets it. 👆</td>\n",
       "      <td>not sexist</td>\n",
       "      <td>train</td>\n",
       "    </tr>\n",
       "    <tr>\n",
       "      <th>19998</th>\n",
       "      <td>sexism2022_english-13365</td>\n",
       "      <td>“American Idol” finalist [USER] said nothing i...</td>\n",
       "      <td>not sexist</td>\n",
       "      <td>train</td>\n",
       "    </tr>\n",
       "    <tr>\n",
       "      <th>19999</th>\n",
       "      <td>sexism2022_english-3523</td>\n",
       "      <td>this bi--th should be stoped she's the rapist</td>\n",
       "      <td>sexist</td>\n",
       "      <td>test</td>\n",
       "    </tr>\n",
       "  </tbody>\n",
       "</table>\n",
       "<p>20000 rows × 4 columns</p>\n",
       "</div>"
      ],
      "text/plain": [
       "                      rewire_id  \\\n",
       "0       sexism2022_english-9609   \n",
       "1      sexism2022_english-16993   \n",
       "2      sexism2022_english-13149   \n",
       "3      sexism2022_english-13021   \n",
       "4        sexism2022_english-966   \n",
       "...                         ...   \n",
       "19995   sexism2022_english-5228   \n",
       "19996  sexism2022_english-10140   \n",
       "19997   sexism2022_english-9726   \n",
       "19998  sexism2022_english-13365   \n",
       "19999   sexism2022_english-3523   \n",
       "\n",
       "                                                    text label_sexist  split  \n",
       "0      In Nigeria, if you rape a woman, the men rape ...   not sexist    dev  \n",
       "1                                Then, she's a keeper. 😉   not sexist  train  \n",
       "2      This is like the Metallica video where the poo...   not sexist  train  \n",
       "3                                                 woman?   not sexist  train  \n",
       "4                         I bet she wished she had a gun   not sexist    dev  \n",
       "...                                                  ...          ...    ...  \n",
       "19995     girls really get fucked almost every weekend ?   not sexist  train  \n",
       "19996  The hatred for moslems are Reasonable and Just...   not sexist  train  \n",
       "19997                 Now this is a woman who gets it. 👆   not sexist  train  \n",
       "19998  “American Idol” finalist [USER] said nothing i...   not sexist  train  \n",
       "19999      this bi--th should be stoped she's the rapist       sexist   test  \n",
       "\n",
       "[20000 rows x 4 columns]"
      ]
     },
     "execution_count": 6,
     "metadata": {},
     "output_type": "execute_result"
    }
   ],
   "source": [
    "data_agg = pd.read_csv('../data/edos_labelled_aggregated.csv')\n",
    "data_agg = data_agg.drop(columns=['label_category', 'label_vector'])\n",
    "print(\"Columns:\", list(data_agg.columns))\n",
    "print(\"Shape:\", data_agg.shape)\n",
    "data_agg"
   ]
  },
  {
   "cell_type": "markdown",
   "metadata": {},
   "source": [
    "Conclusions drawn using regular expressions:\n",
    "\n",
    "- `[URL]`, `[USER]` are placeholders used by dataset authors instead of actual URLs and real usernames\n",
    "- female related nouns and pronouns are more frequent than male\n",
    "- hashtags `#` often used\n",
    "- huge amount of profanities"
   ]
  },
  {
   "cell_type": "code",
   "execution_count": 7,
   "metadata": {},
   "outputs": [],
   "source": [
    "def count_patterns(pattern, data):\n",
    "    return Counter(match for text in data.text for match in re.findall(pattern, text)).most_common()"
   ]
  },
  {
   "cell_type": "code",
   "execution_count": 20,
   "metadata": {},
   "outputs": [],
   "source": [
    "# count_patterns(r'\\[[A-Z]+\\]', data_agg) # catching: [USER], [URL]\n",
    "# count_patterns(r'\\b(she|her|wom[ae]n|female|girl|lady)\\b', data_agg) # female related nouns, pronouns etc.\n",
    "# count_patterns(r'\\b(he|him|his|m[ae]n|male|boy|guy|dude)\\b', data_agg) # male related nouns, pronouns etc.\n",
    "# count_patterns(r'#\\w+', data_agg) # hashtag\n",
    "# count_patterns(r'\\b(fuck|shit|damn|asshole|bitch|slut)\\b', data_agg) # profanities"
   ]
  },
  {
   "cell_type": "code",
   "execution_count": null,
   "metadata": {},
   "outputs": [],
   "source": []
  },
  {
   "cell_type": "markdown",
   "metadata": {},
   "source": [
    "### Text normalization\n",
    "\n",
    "What are the most common words in our concatenated text?"
   ]
  },
  {
   "cell_type": "markdown",
   "metadata": {},
   "source": [
    "##### Stopword removal\n",
    "\n",
    "`she`, `herself` etc. should be excluded from stopwords"
   ]
  },
  {
   "cell_type": "markdown",
   "metadata": {},
   "source": [
    "##### Lemmatization"
   ]
  },
  {
   "cell_type": "markdown",
   "metadata": {},
   "source": [
    "### Exporting in the CoNLL format\n"
   ]
  },
  {
   "cell_type": "code",
   "execution_count": null,
   "metadata": {},
   "outputs": [],
   "source": []
  }
 ],
 "metadata": {
  "kernelspec": {
   "display_name": "Python 3",
   "language": "python",
   "name": "python3"
  },
  "language_info": {
   "codemirror_mode": {
    "name": "ipython",
    "version": 3
   },
   "file_extension": ".py",
   "mimetype": "text/x-python",
   "name": "python",
   "nbconvert_exporter": "python",
   "pygments_lexer": "ipython3",
   "version": "3.12.1"
  }
 },
 "nbformat": 4,
 "nbformat_minor": 2
}

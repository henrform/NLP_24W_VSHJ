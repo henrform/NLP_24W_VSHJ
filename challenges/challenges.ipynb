{
 "cells": [
  {
   "cell_type": "markdown",
   "metadata": {},
   "source": [
    "# Challenges and Questions: final project phase\n",
    "___"
   ]
  },
  {
   "cell_type": "code",
   "execution_count": null,
   "metadata": {},
   "outputs": [
    {
     "name": "stdout",
     "output_type": "stream",
     "text": [
      "WARNING:tensorflow:From d:\\Natural Language Processing\\Project new\\NLP_24W_VSHJ\\venv\\lib\\site-packages\\keras\\src\\losses.py:2976: The name tf.losses.sparse_softmax_cross_entropy is deprecated. Please use tf.compat.v1.losses.sparse_softmax_cross_entropy instead.\n",
      "\n"
     ]
    },
    {
     "name": "stderr",
     "output_type": "stream",
     "text": [
      "d:\\Natural Language Processing\\Project new\\NLP_24W_VSHJ\\venv\\lib\\site-packages\\tqdm\\auto.py:21: TqdmWarning: IProgress not found. Please update jupyter and ipywidgets. See https://ipywidgets.readthedocs.io/en/stable/user_install.html\n",
      "  from .autonotebook import tqdm as notebook_tqdm\n"
     ]
    }
   ],
   "source": [
    "import sys\n",
    "import os\n",
    "\n",
    "milestone_2_path = os.path.abspath(\"../milestone 2\")\n",
    "sys.path.append(milestone_2_path)\n",
    "\n",
    "import seaborn as sns\n",
    "import matplotlib.pyplot as plt\n",
    "import pandas as pd\n",
    "\n",
    "import import_preprocess, baseline_models\n",
    "from importlib import reload\n",
    "reload(import_preprocess)\n",
    "reload(baseline_models)\n",
    "\n",
    "from import_preprocess import ImportPreprocess\n",
    "\n",
    "from bert_models import BERTModel"
   ]
  },
  {
   "cell_type": "markdown",
   "metadata": {},
   "source": [
    "Initially, we'll identify which model performs best for our task (assumption: `HateBERT`). To do this, we'll start with the base scenario: a balanced or unbalanced dataset with the initial labels. Maybe better just balanced????????????\n",
    "\n",
    "Once we determine the best model, we'll retrain it using various scenarios, including both balanced and unbalanced datasets, along with 3 distinct types of label aggregation: `original` (provided by the dataset creators), `majority voting` (applied to the labels from 3 annotators) and `at least one sexist` (where a label is \"sexist\" if at least 1 annotator assigned it as such). These combinations of dataset type and aggregation method yield 6 distinct configurations for model training."
   ]
  },
  {
   "cell_type": "code",
   "execution_count": 2,
   "metadata": {},
   "outputs": [
    {
     "name": "stdout",
     "output_type": "stream",
     "text": [
      "Number of training samples: 14000\n",
      "Number of validation samples: 2000\n",
      "Number of test samples: 4000\n",
      "Number of balanced samples: 10000\n"
     ]
    }
   ],
   "source": [
    "import_preprocess = ImportPreprocess()\n",
    "import_preprocess.import_train_val_test()\n",
    "import_preprocess.create_balanced_dataset()\n",
    "\n",
    "X_train, y_train, S_train, y_train_multi = import_preprocess.X_train, import_preprocess.y_train, import_preprocess.S_train, import_preprocess.y_train_multi\n",
    "X_val, y_val, S_val, y_val_multi = import_preprocess.X_val, import_preprocess.y_val, import_preprocess.S_val, import_preprocess.y_val_multi\n",
    "X_test, y_test, S_test, y_test_multi = import_preprocess.X_test, import_preprocess.y_test, import_preprocess.S_test, import_preprocess.y_test_multi\n",
    "X_balanced, y_balanced = import_preprocess.X_train_balanced, import_preprocess.y_train_balanced\n",
    "\n",
    "# different aggregation methods\n",
    "y_train_mv, y_train_balanced_mv, y_val_mv, y_test_mv = import_preprocess.apply_aggregation(aggregation_type='majority voting')\n",
    "y_train_alos, y_train_balanced_alos, y_val_alos, y_test_alos = import_preprocess.apply_aggregation(aggregation_type='at least one sexist')\n",
    "\n",
    "print(\"Number of training samples:\", len(X_train)) \n",
    "print(\"Number of validation samples:\", len(X_val))\n",
    "print(\"Number of test samples:\", len(X_test)) \n",
    "print(\"Number of balanced samples:\", len(X_balanced))"
   ]
  },
  {
   "cell_type": "markdown",
   "metadata": {},
   "source": [
    "# BERT-based models"
   ]
  },
  {
   "cell_type": "code",
   "execution_count": null,
   "metadata": {},
   "outputs": [
    {
     "name": "stdout",
     "output_type": "stream",
     "text": [
      "Loading pretrained model and tokenizer...\n"
     ]
    },
    {
     "name": "stderr",
     "output_type": "stream",
     "text": [
      "Some weights of BertForSequenceClassification were not initialized from the model checkpoint at GroNLP/hateBERT and are newly initialized: ['classifier.bias', 'classifier.weight']\n",
      "You should probably TRAIN this model on a down-stream task to be able to use it for predictions and inference.\n",
      "d:\\Natural Language Processing\\Project new\\NLP_24W_VSHJ\\venv\\lib\\site-packages\\transformers\\optimization.py:591: FutureWarning: This implementation of AdamW is deprecated and will be removed in a future version. Use the PyTorch implementation torch.optim.AdamW instead, or set `no_deprecation_warning=True` to disable this warning\n",
      "  warnings.warn(\n",
      "We strongly recommend passing in an `attention_mask` since your input_ids may be padded. See https://huggingface.co/docs/transformers/troubleshooting#incorrect-output-when-padding-tokens-arent-masked.\n"
     ]
    },
    {
     "name": "stdout",
     "output_type": "stream",
     "text": [
      "Pretrained weights loaded successfully.\n",
      "Training started.\n",
      "Epoch 1/3, Cross-entropy Loss: 6.4880\n",
      "Validation Accuracy: 0.6900\n",
      "Epoch 2/3, Cross-entropy Loss: 5.7621\n",
      "Validation Accuracy: 0.6900\n",
      "Epoch 3/3, Cross-entropy Loss: 3.8499\n",
      "Validation Accuracy: 0.7100\n"
     ]
    }
   ],
   "source": [
    "model = BERTModel(\"HateBERT\")\n",
    "model.train(X_train[:30], y_train[:30], X_val[:10], y_val[:10])"
   ]
  },
  {
   "cell_type": "code",
   "execution_count": null,
   "metadata": {},
   "outputs": [
    {
     "name": "stdout",
     "output_type": "stream",
     "text": [
      "########################################\n",
      "\n",
      "Metrics for training\n",
      "accuracy: 0.9300\n",
      "balanced accuracy: 0.8918\n",
      "precision: 1.0000\n",
      "recall: 0.7835\n",
      "\n",
      "########################################\n",
      "\n",
      "Metrics for validation\n",
      "accuracy: 0.7100\n",
      "balanced accuracy: 0.5323\n",
      "precision: 1.0000\n",
      "recall: 0.0645\n",
      "\n",
      "########################################\n",
      "\n"
     ]
    },
    {
     "data": {
      "image/png": "[encoded data removed]",
      "text/plain": [
       "<Figure size 800x400 with 2 Axes>"
      ]
     },
     "metadata": {},
     "output_type": "display_data"
    }
   ],
   "source": [
    "res = model.evaluate({\"training\": X_train[:300], \"validation\": X_val[:100]}, [y_train[:300], y_val[:100]], model_name=\"hateBERT\")"
   ]
  },
  {
   "cell_type": "code",
   "execution_count": null,
   "metadata": {},
   "outputs": [],
   "source": []
  },
  {
   "cell_type": "markdown",
   "metadata": {},
   "source": [
    "# Autoregressive models: LLAMA"
   ]
  }
 ],
 "metadata": {
  "kernelspec": {
   "display_name": "venv",
   "language": "python",
   "name": "python3"
  },
  "language_info": {
   "codemirror_mode": {
    "name": "ipython",
    "version": 3
   },
   "file_extension": ".py",
   "mimetype": "text/x-python",
   "name": "python",
   "nbconvert_exporter": "python",
   "pygments_lexer": "ipython3",
   "version": "3.10.0"
  }
 },
 "nbformat": 4,
 "nbformat_minor": 2
}
